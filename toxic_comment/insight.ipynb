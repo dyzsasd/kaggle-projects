{
 "cells": [
  {
   "cell_type": "code",
   "execution_count": 4,
   "metadata": {},
   "outputs": [],
   "source": [
    "import pandas as pd\n",
    "\n",
    "test = pd.read_csv(\"../data/toxic_comment/test.csv\", index_col=0)\n",
    "train = pd.read_csv(\"../data/toxic_comment/train.csv\", index_col=0)"
   ]
  },
  {
   "cell_type": "code",
   "execution_count": 10,
   "metadata": {},
   "outputs": [],
   "source": [
    "corp = pd.concat([train, test], axis=0)"
   ]
  },
  {
   "cell_type": "code",
   "execution_count": 19,
   "metadata": {},
   "outputs": [
    {
     "data": {
      "text/plain": [
       "['please',\n",
       " 'do',\n",
       " 'not',\n",
       " 'vandalize',\n",
       " 'pages',\n",
       " 'as',\n",
       " 'you',\n",
       " 'did',\n",
       " 'with',\n",
       " 'this',\n",
       " 'edit',\n",
       " 'to',\n",
       " 'w',\n",
       " 's',\n",
       " 'merwin',\n",
       " 'if',\n",
       " 'you',\n",
       " 'continue',\n",
       " 'to',\n",
       " 'do',\n",
       " 'so',\n",
       " 'you',\n",
       " 'will',\n",
       " 'be',\n",
       " 'blocked',\n",
       " 'from',\n",
       " 'editing']"
      ]
     },
     "execution_count": 19,
     "metadata": {},
     "output_type": "execute_result"
    }
   ],
   "source": [
    "import re\n",
    "\n",
    "re.findall(r'[?!]|\\w+', corp['comment_text'][27450690].lower())"
   ]
  },
  {
   "cell_type": "code",
   "execution_count": 16,
   "metadata": {},
   "outputs": [
    {
     "data": {
      "text/plain": [
       "'\"\\n\\n Please do not vandalize pages, as you did with this edit to W. S. Merwin. If you continue to do so, you will be blocked from editing.    \"'"
      ]
     },
     "execution_count": 16,
     "metadata": {},
     "output_type": "execute_result"
    }
   ],
   "source": [
    "corp['comment_text'][27450690]"
   ]
  }
 ],
 "metadata": {
  "kernelspec": {
   "display_name": "Python 3",
   "language": "python",
   "name": "python3"
  },
  "language_info": {
   "codemirror_mode": {
    "name": "ipython",
    "version": 3
   },
   "file_extension": ".py",
   "mimetype": "text/x-python",
   "name": "python",
   "nbconvert_exporter": "python",
   "pygments_lexer": "ipython3",
   "version": "3.6.1"
  }
 },
 "nbformat": 4,
 "nbformat_minor": 2
}
